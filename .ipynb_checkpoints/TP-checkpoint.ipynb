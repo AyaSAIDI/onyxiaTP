{
 "cells": [
  {
   "cell_type": "code",
   "execution_count": 1,
   "id": "e74bcff7-b3f8-4360-9509-230325aa7c28",
   "metadata": {},
   "outputs": [],
   "source": [
    "import pandas as pd"
   ]
  },
  {
   "cell_type": "code",
   "execution_count": 2,
   "id": "4a918f53-3401-4621-96ba-44e58aa80cbd",
   "metadata": {},
   "outputs": [],
   "source": [
    "usagers = pd.read_csv('usagers-2022.csv')\n",
    "vehicules = pd.read_csv('vehicules-2022.csv')"
   ]
  },
  {
   "cell_type": "code",
   "execution_count": 8,
   "id": "2db762aa-6a8f-4989-97ec-a83d3b0f8f7a",
   "metadata": {},
   "outputs": [],
   "source": [
    "from sqlalchemy import create_engine\n",
    "import psycopg2"
   ]
  },
  {
   "cell_type": "code",
   "execution_count": 9,
   "id": "d00d10c9-fb52-44af-a5de-35eacafeb8c4",
   "metadata": {},
   "outputs": [],
   "source": [
    "username = 'user-ayasaidi'  \n",
    "password = '0cryo6kzligjfi3aw3p6'  \n",
    "hostname = 'postgresql-795529.user-ayasaidi' \n",
    "database = 'defaultdb'\n",
    "\n",
    "# Chaîne de connexion\n",
    "connection_string = f'postgresql+psycopg2://{username}:{password}@{hostname}/{database}'\n",
    "\n",
    "# Créer un moteur de connexion\n",
    "engine = create_engine(connection_string)"
   ]
  },
  {
   "cell_type": "code",
   "execution_count": 13,
   "id": "6b42ef8f-cb9d-4225-b7da-3ae469269165",
   "metadata": {},
   "outputs": [
    {
     "data": {
      "text/plain": [
       "493"
      ]
     },
     "execution_count": 13,
     "metadata": {},
     "output_type": "execute_result"
    }
   ],
   "source": [
    "# Importer le DataFrame usagers\n",
    "usagers.to_sql('usagers', engine, index=False, if_exists='replace')\n",
    "\n",
    "# Importer l'autre DataFrame\n",
    "vehicules.to_sql('vehicules', engine, index=False, if_exists='replace')"
   ]
  },
  {
   "cell_type": "code",
   "execution_count": null,
   "id": "94aa7c7e-e3c7-497d-b52f-757c33869b53",
   "metadata": {},
   "outputs": [],
   "source": []
  }
 ],
 "metadata": {
  "kernelspec": {
   "display_name": "Python 3 (ipykernel)",
   "language": "python",
   "name": "python3"
  },
  "language_info": {
   "codemirror_mode": {
    "name": "ipython",
    "version": 3
   },
   "file_extension": ".py",
   "mimetype": "text/x-python",
   "name": "python",
   "nbconvert_exporter": "python",
   "pygments_lexer": "ipython3",
   "version": "3.12.6"
  }
 },
 "nbformat": 4,
 "nbformat_minor": 5
}
